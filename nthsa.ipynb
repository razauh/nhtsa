{
 "cells": [
  {
   "cell_type": "code",
   "execution_count": 1,
   "metadata": {},
   "outputs": [],
   "source": [
    "#https://github.com/usman-hussain/NHTSA-Complaints-Database-/blob/main/NHTSA%20Complaints%20Database.ipynb\n",
    "# https://www.kaggle.com/datasets/ankkur13/edmundsconsumer-car-ratings-and-reviews\n",
    "import json\n",
    "import requests\n",
    "from os.path import exists,join\n",
    "from os import makedirs\n",
    "import numpy as np\n",
    "# import altair as alt\n",
    "import pandas as pd"
   ]
  },
  {
   "cell_type": "markdown",
   "metadata": {},
   "source": [
    "## Complaints"
   ]
  },
  {
   "cell_type": "code",
   "execution_count": 5,
   "metadata": {},
   "outputs": [],
   "source": [
    "url0 = 'http://www.nhtsa.gov/webapi/api/Complaints/vehicle/modelyear/{}/make/{}/model/{}?format=json'\n",
    "def get_complaints(make,model,year):\n",
    "    folder = 'NHTSAcomplaints'\n",
    "    if not exists(folder): makedirs(folder)\n",
    "    filename = make + '_' + model + '_' + str(year) + '.json'\n",
    "    path = join(folder,filename)\n",
    "    if exists( path ):\n",
    "       # print('Have previously downloaded this: getting from local file')\n",
    "        with open(path) as f:\n",
    "            results = json.load(f)\n",
    "    else:\n",
    "        #print('Haven\\'t downloaded this one yet: getting from NHTSA and will save to local file')\n",
    "        url = url0.format(year,make,model)\n",
    "        results = json.loads(requests.get(url).text)\n",
    "        with open(path,'w') as f:\n",
    "            json.dump(results,f,indent=3)\n",
    "    return results"
   ]
  },
  {
   "cell_type": "code",
   "execution_count": 6,
   "metadata": {},
   "outputs": [
    {
     "data": {
      "text/plain": [
       "16"
      ]
     },
     "execution_count": 6,
     "metadata": {},
     "output_type": "execute_result"
    }
   ],
   "source": [
    "carlist = [('Toyota','Tacoma'), ('Honda','Civic'),\n",
    "        ('Toyota','Corolla'),('Toyota','Camry'),('Honda','CR-V'),\n",
    "        ('Chevrolet', 'Silverado'),('Honda','Accord'), \n",
    "        ('Nissan', 'Altima'),  ('Honda', 'HR-V'), \n",
    "        ('Ford', 'Explorer'), ('Jeep', 'Wrangler'),  \n",
    "        ('GMC', 'Sierra'),  ('Jeep', 'Grand Cherokee'), ('Toyota', 'RAV4'),  ('Ram', 'Pickup'),\n",
    "          ('Ford', 'F-150')]\n",
    "len(carlist)"
   ]
  },
  {
   "cell_type": "code",
   "execution_count": 7,
   "metadata": {},
   "outputs": [
    {
     "name": "stdout",
     "output_type": "stream",
     "text": [
      "\n",
      "\n",
      "\n",
      "\n",
      "\n",
      "\n",
      "\n",
      "\n",
      "\n",
      "\n",
      "\n",
      "\n",
      "\n",
      "\n",
      "\n",
      "\n"
     ]
    }
   ],
   "source": [
    "from pandas.io.json import json_normalize\n",
    "import pandas\n",
    "data={ 'Crash':[], 'Fire':[], \n",
    "      'NumberOfInjured':[], \n",
    "      'NumberOfDeaths':[],\n",
    "      'Component':[],\n",
    "      'Component':[],\n",
    "      'Summary':[],\n",
    "      'ModelYear':[],\n",
    "      'Make':[],\n",
    "      'Model':[]\n",
    "     }\n",
    "df = pd.DataFrame()\n",
    "for car in carlist:\n",
    "#     print(car)\n",
    "\n",
    "    make,model = car\n",
    "\n",
    "    print()\n",
    "# json_data = [] \n",
    "    for year in range(2000,2022):\n",
    "        d = get_complaints(make,model,year)\n",
    "\n",
    "    #     json_data.append( json_normalize(d['Results']) )\n",
    "    #     print(json_data)\n",
    "    # df_all = pandas.DataFrame.from_records( json_data )\n",
    "        for result in d['Results']:\n",
    "\n",
    "            data['Make'].append(result['Make'])\n",
    "            data['Model'].append(result['Model'])\n",
    "            data['Crash'].append(result['Crash'])\n",
    "            data['Fire'].append(result['Fire'])\n",
    "            data['NumberOfInjured'].append(result['NumberOfInjured'])\n",
    "            data['NumberOfDeaths'].append(result['NumberOfDeaths'])\n",
    "            data['Component'].append(result['Component'])\n",
    "            data['Component'].append(result['Component'])\n",
    "            data['Summary'].append(result['Summary'])           \n",
    "            data['ModelYear'].append(result['ModelYear'])\n",
    "\n",
    "\n",
    "\n"
   ]
  },
  {
   "cell_type": "code",
   "execution_count": 8,
   "metadata": {},
   "outputs": [
    {
     "name": "stderr",
     "output_type": "stream",
     "text": [
      "C:\\Users\\Raza\\AppData\\Local\\Temp\\ipykernel_14680\\469066589.py:10: FutureWarning: The default value of regex will change from True to False in a future version.\n",
      "  df['Component'] = df['Component'].str.replace('[^\\w\\s]', ' ')\n"
     ]
    }
   ],
   "source": [
    "df= pd.DataFrame.from_dict(data, orient='index')\n",
    "df = df.T\n",
    "df = df[df['Make'].notna()]\n",
    "\n",
    "#change yes and no to 1 and 0\n",
    "df['Crash'] = df['Crash'].replace({'Yes':1, 'No':0})\n",
    "df['Fire'] = df['Fire'].replace({'Yes':1, 'No':0})\n",
    "\n",
    "#remove special characters \n",
    "df['Component'] = df['Component'].str.replace('[^\\w\\s]', ' ')"
   ]
  },
  {
   "cell_type": "code",
   "execution_count": 10,
   "metadata": {},
   "outputs": [],
   "source": [
    "df.to_csv('car_complaints_new.csv', index=False, encoding='utf-8')"
   ]
  },
  {
   "cell_type": "markdown",
   "metadata": {},
   "source": [
    "### Plots"
   ]
  },
  {
   "cell_type": "code",
   "execution_count": null,
   "metadata": {},
   "outputs": [],
   "source": [
    "df.Model.value_counts().plot(kind='bar', figsize = (12, 4))"
   ]
  },
  {
   "cell_type": "code",
   "execution_count": 2,
   "metadata": {},
   "outputs": [],
   "source": [
    "import psycopg2\n",
    "import os\n",
    "import psycopg2.extras"
   ]
  },
  {
   "cell_type": "code",
   "execution_count": 11,
   "metadata": {},
   "outputs": [],
   "source": [
    "df['ModelYear'] = df['ModelYear'].astype(int)\n",
    "df['NumberOfInjured'] = df['NumberOfInjured'].astype(int)\n",
    "df['NumberOfDeaths'] = df['NumberOfDeaths'].astype(int)"
   ]
  },
  {
   "cell_type": "code",
   "execution_count": 15,
   "metadata": {},
   "outputs": [
    {
     "data": {
      "text/plain": [
       "'Crash int, Fire int, NumberOfInjured int, NumberOfDeaths int, Component varchar, Summary varchar, ModelYear int, Make varchar, Model varchar'"
      ]
     },
     "execution_count": 15,
     "metadata": {},
     "output_type": "execute_result"
    }
   ],
   "source": [
    "dtypes_replacement = {\n",
    "    'object' : 'varchar',\n",
    "    'int64' : 'int',\n",
    "    'int32' : 'int',\n",
    "    'float64' : 'float',\n",
    "    'bool': 'BOOLEAN'\n",
    "    \n",
    "}\n",
    "#generate appropriate datatypes for sql create command \n",
    "col_str = \", \".join(\"{} {}\".format(n , d) for (n , d) in zip(df.columns, df.dtypes.replace(dtypes_replacement)))\n",
    "col_str"
   ]
  },
  {
   "cell_type": "code",
   "execution_count": null,
   "metadata": {},
   "outputs": [],
   "source": [
    "# df['manufacturer'] = df['manufacturer'].str.replace('[^\\w\\s]', '')\n",
    "# df['component'] = df['component'].str.replace('[^\\w\\s]', '')\n",
    "# df['summary'] = df['summary'].str.replace('[^\\w\\s]', '')\n",
    "# df['make'] = df['make'].str.replace('[^\\w\\s]', '')\n",
    "# df['model'] = df['model'].str.replace('[^\\w\\s]', '')\n",
    "\n",
    "# df['odinumber'] = df['odinumber'].astype(str).str.extract('(\\d+)', expand=False)\n",
    "# df['crash'] = df['crash'].astype(str).str.extract('(\\d+)', expand=False)\n",
    "# df['fire'] = df['fire'].astype(str).str.extract('(\\d+)', expand=False)\n",
    "# df['numberofinjured'] = df['numberofinjured'].astype(str).str.extract('(\\d+)', expand=False)\n",
    "# df['numberofdeaths'] = df['numberofdeaths'].astype(str).str.extract('(\\d+)', expand=False)\n",
    "# df['modelyear'] = df['modelyear'].astype(str).str.extract('(\\d+)', expand=False)\n",
    "# # df['airbag'] = df['airbag'].astype(str).str.extract('(\\d+)', expand=False)"
   ]
  },
  {
   "cell_type": "code",
   "execution_count": 12,
   "metadata": {},
   "outputs": [],
   "source": [
    "host_name = \"localhost\"\n",
    "port_id = 5432\n",
    "pwd = \"test!123\"\n",
    "username = \"postgres\"\n",
    "database = \"nthsa\"\n",
    "conn = None\n",
    "curr = None\n",
    "# try:\n",
    "conn = psycopg2.connect(\n",
    "    host = host_name,\n",
    "    dbname = database,\n",
    "    user = username,\n",
    "    password = pwd,\n",
    "    port = port_id\n",
    ")\n",
    "curr = conn.cursor(cursor_factory=psycopg2.extras.DictCursor)\n"
   ]
  },
  {
   "cell_type": "code",
   "execution_count": 16,
   "metadata": {},
   "outputs": [],
   "source": [
    "#create table\n",
    "#drop table if exists\n",
    "curr.execute(\"drop table if exists complaints;\")\n",
    "#create table \n",
    "curr.execute(\"create table complaints \\\n",
    "            (Crash int, Fire int, NumberOfInjured int,\\\n",
    "            NumberOfDeaths int, Component varchar, Summary varchar, \\\n",
    "            ModelYear int, Make varchar, Model varchar)\")\n"
   ]
  },
  {
   "cell_type": "code",
   "execution_count": 13,
   "metadata": {},
   "outputs": [],
   "source": [
    "#read csv as object\n",
    "#and insert into table\n",
    "my_file = open('car_complaints_new.csv',encoding='utf8')\n",
    "    \n",
    "# except Exception as error:\n",
    "#     print(error)\n",
    "# finally:\n",
    "#     if curr is not None:\n",
    "#         curr.close()\n",
    "#     if conn is not None:\n",
    "#         conn.close()\n",
    "\n",
    "sql_statement = \"\"\"\n",
    "COPY car_complaints FROM STDIN WITH\n",
    "    CSV\n",
    "    HEADER \n",
    "    DELIMITER AS ','\n",
    "    NULL AS ' '\n",
    "    encoding 'utf8'\n",
    "\"\"\"\n",
    "\n",
    "curr.copy_expert(sql=sql_statement, file=my_file)"
   ]
  },
  {
   "cell_type": "code",
   "execution_count": 16,
   "metadata": {},
   "outputs": [],
   "source": [
    "select_all = \"\"\"\n",
    "select *  from car_complaints\n",
    "\"\"\"\n",
    "curr.execute(select_all)\n",
    "\n",
    "results = curr.fetchall()"
   ]
  },
  {
   "cell_type": "code",
   "execution_count": 14,
   "metadata": {},
   "outputs": [
    {
     "name": "stdout",
     "output_type": "stream",
     "text": [
      "TOYOTA 33496\n",
      "NISSAN 12349\n",
      "JEEP 27246\n",
      "HONDA 33242\n",
      "GMC 2028\n",
      "FORD 32998\n",
      "CHEVROLET 5685\n"
     ]
    }
   ],
   "source": [
    "select_script = \"\"\"\n",
    "    select Make, count(*) as make_count\n",
    "    from car_complaints\n",
    "    group by make\n",
    "    order by 1 desc;\n",
    "\"\"\"\n",
    "\n",
    "curr.execute(select_script)\n",
    "\n",
    "for record in curr.fetchall():\n",
    "    print(record['make'], record['make_count'])"
   ]
  },
  {
   "cell_type": "markdown",
   "metadata": {},
   "source": [
    "#### insert dataframe to db table"
   ]
  },
  {
   "cell_type": "code",
   "execution_count": 21,
   "metadata": {},
   "outputs": [],
   "source": [
    "select_script1 = \"\"\"\n",
    "    drop table if exists temp1;\n",
    "    drop table if exists temp2;\n",
    "    create  temporary table temp1\n",
    "    as\n",
    "        select model, modelyear,\n",
    "        count(make) over (partition by modelyear) as model_count\n",
    "        from car_complaints;\n",
    "    create temporary table temp2\n",
    "    as\n",
    "        select *,\n",
    "        row_number() over (partition by model, modelyear order by modelyear ) as row_numers\n",
    "        from temp1;\n",
    "    \n",
    "    select model,modelyear, model_count\n",
    "    from temp2 where row_numers = 1;    \n",
    "\"\"\"\n",
    "\n",
    "curr.execute(select_script1)\n",
    "\n",
    "results = curr.fetchall()\n",
    "\n",
    "\n",
    "\n",
    "# for record in curr.fetchall():\n",
    "#     print(record['make'], record['modelyear'], record['model_count'], record['row_numers'])"
   ]
  },
  {
   "cell_type": "code",
   "execution_count": 23,
   "metadata": {},
   "outputs": [],
   "source": [
    "count_script = \"\"\"\n",
    "    drop table if exists temp1;\n",
    "    drop table if exists temp2;\n",
    "    create temporary table temp1\n",
    "    as\n",
    "        select model, modelyear, \n",
    "            count(make) over (partition by modelyear) as model_count,\n",
    "            sum(crash) over (partition by model, modelyear) as crash_count,\n",
    "            sum(fire) over (partition by model, modelyear) as fire_count,\n",
    "            sum(numberofinjured) over (partition by model, modelyear) as injured_count,\n",
    "            sum(numberofdeaths) over (partition by model, modelyear) as death_count\n",
    "        from car_complaints;\n",
    "    create temporary table temp2\n",
    "    as \n",
    "        select *,\n",
    "            row_number() over (partition by model, modelyear order by modelyear) as row_numbers\n",
    "        from temp1;\n",
    "    select model, modelyear,model_count, crash_count, fire_count, injured_count, death_count\n",
    "    from temp2 where row_numbers = 1 ;\n",
    "    \n",
    "\"\"\"\n",
    "\n",
    "curr.execute(count_script)\n",
    "count_results = curr.fetchall()\n"
   ]
  },
  {
   "cell_type": "code",
   "execution_count": null,
   "metadata": {},
   "outputs": [],
   "source": [
    "headers = ['model', 'modelyear', 'model_count', 'crash_count', \n",
    "           'fire_count', 'injured_count', 'death_count']\n",
    "counts_df = pd.DataFrame(count_results, columns=headers)"
   ]
  },
  {
   "cell_type": "markdown",
   "metadata": {},
   "source": [
    "### Correlation"
   ]
  },
  {
   "cell_type": "code",
   "execution_count": null,
   "metadata": {},
   "outputs": [],
   "source": [
    "#exclude model year\n",
    "corr_df = counts_df[['model_count', 'crash_count', 'fire_count', 'injured_count', 'death_count']]\n",
    "corr = corr_df.corr()\n",
    "corr.style.background_gradient(cmap='coolwarm').set_precision(3)"
   ]
  },
  {
   "cell_type": "code",
   "execution_count": null,
   "metadata": {},
   "outputs": [],
   "source": [
    "import matplotlib.pyplot as plt\n",
    "plt.matshow(corr_df)"
   ]
  },
  {
   "cell_type": "code",
   "execution_count": null,
   "metadata": {},
   "outputs": [],
   "source": [
    "#between number of crashs and number of deaths\n",
    "counts_df['death_count'].corr(counts_df['crash_count'])"
   ]
  },
  {
   "cell_type": "code",
   "execution_count": null,
   "metadata": {},
   "outputs": [],
   "source": [
    "#between fires and death counts\n",
    "counts_df['death_count'].corr(counts_df['fire_count'])"
   ]
  }
 ],
 "metadata": {
  "kernelspec": {
   "display_name": "Python (analytics)",
   "language": "python",
   "name": "analytics"
  },
  "language_info": {
   "codemirror_mode": {
    "name": "ipython",
    "version": 3
   },
   "file_extension": ".py",
   "mimetype": "text/x-python",
   "name": "python",
   "nbconvert_exporter": "python",
   "pygments_lexer": "ipython3",
   "version": "3.9.12"
  }
 },
 "nbformat": 4,
 "nbformat_minor": 4
}
